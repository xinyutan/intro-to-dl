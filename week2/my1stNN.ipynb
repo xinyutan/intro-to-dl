{
 "cells": [
  {
   "cell_type": "code",
   "execution_count": 1,
   "metadata": {
    "collapsed": true
   },
   "outputs": [],
   "source": [
    "%matplotlib inline\n",
    "import matplotlib.pyplot as plt"
   ]
  },
  {
   "cell_type": "code",
   "execution_count": 2,
   "metadata": {},
   "outputs": [
    {
     "name": "stderr",
     "output_type": "stream",
     "text": [
      "Using TensorFlow backend.\n"
     ]
    }
   ],
   "source": [
    "import tensorflow as tf\n",
    "import numpy as np\n",
    "from preprocessed_mnist import load_dataset\n",
    "from sklearn import preprocessing\n",
    "\n",
    "sess = tf.Session()\n",
    "\n",
    "# input data\n",
    "X_train, y_train, X_val, y_val, X_test, y_test = load_dataset()\n",
    "m1 = X_train.shape[1] * X_train.shape[2]\n",
    "lb = preprocessing.LabelBinarizer()\n",
    "lb.fit(y_train)\n",
    "y_train = lb.transform(y_train)\n",
    "y_val = lb.transform(y_val)\n",
    "y_test = lb.transform(y_test)\n",
    "X_train = X_train.reshape((X_train.shape[0], m1))\n",
    "X_val = X_val.reshape((X_val.shape[0], m1))\n",
    "X_test = X_test.reshape((X_test.shape[0], m1))"
   ]
  },
  {
   "cell_type": "code",
   "execution_count": 3,
   "metadata": {},
   "outputs": [],
   "source": [
    "# parameters\n",
    "learning_rate = 0.001\n",
    "batch_size = 128\n",
    "epoc = 15\n",
    "\n",
    "\n",
    "# network parameters\n",
    "m2 = 100\n",
    "m3 = y_train.shape[1]\n",
    "\n",
    "X = tf.placeholder(tf.float64, shape=(None, m1))\n",
    "y = tf.placeholder(tf.float64, shape=(None, m3))\n",
    "\n",
    "\n",
    "# define parameters\n",
    "W1 = tf.cast(tf.Variable(tf.random_normal([m1, m2], mean=0, stddev=0.01),\n",
    "                         name=\"w1\"), tf.float64)\n",
    "b1 = tf.cast(tf.Variable(tf.zeros([1, m2]), name=\"b1\"), tf.float64)\n",
    "\n",
    "W2 = tf.cast(tf.Variable(tf.random_normal([m2, m3], mean=0, stddev=0.01), \n",
    "                         name=\"w2\"), tf.float64)\n",
    "b2 = tf.cast(tf.Variable(tf.zeros([1, m3]), name='b2'), tf.float64)\n",
    "\n",
    "# define place holders\n",
    "h1 = tf.matmul(X, W1) + b1\n",
    "h2 = tf. matmul(tf.nn.relu(h1), W2) + b2\n",
    "y_pred = tf.nn.softmax(h2)\n",
    "\n",
    "correct_pred = tf.equal(tf.argmax(y_pred, 1), tf.argmax(y, 1))\n",
    "accuracy = tf.reduce_mean(tf.cast(correct_pred, tf.float64))\n",
    "\n",
    "cross_entropy = tf.reduce_mean(tf.nn.softmax_cross_entropy_with_logits(\n",
    "    labels=y, logits=h2))\n",
    "optimizer = tf.train.AdamOptimizer(learning_rate=learning_rate).minimize(cross_entropy)"
   ]
  },
  {
   "cell_type": "code",
   "execution_count": 4,
   "metadata": {},
   "outputs": [
    {
     "name": "stdout",
     "output_type": "stream",
     "text": [
      "step:  0 0.281130362139 0.91998 0.272790915624 0.9206\n",
      "step:  1 0.210788823635 0.93996 0.20892050843 0.9385\n",
      "step:  2 0.161648060576 0.95442 0.167788392619 0.9511\n",
      "step:  3 0.132325896201 0.9619 0.140982932963 0.9601\n",
      "step:  4 0.110174337389 0.96928 0.126915407673 0.9637\n",
      "step:  5 0.09394438107 0.97344 0.114955935737 0.9678\n",
      "step:  6 0.0797702028617 0.9781 0.105308606127 0.9685\n",
      "step:  7 0.069311036788 0.98052 0.0971215833691 0.9714\n",
      "step:  8 0.0601897794894 0.98326 0.0954918254306 0.9718\n",
      "step:  9 0.0537351955861 0.98518 0.0938216084937 0.972\n",
      "step:  10 0.0453911426682 0.98792 0.0864104627198 0.9743\n",
      "step:  11 0.0418743069331 0.98932 0.0884264448626 0.9739\n",
      "step:  12 0.0369632602912 0.99094 0.0880675879282 0.9741\n",
      "step:  13 0.0318082978239 0.99224 0.0823730532205 0.976\n",
      "step:  14 0.0280236962055 0.99334 0.0834102017845 0.9749\n"
     ]
    }
   ],
   "source": [
    "sess.run(tf.global_variables_initializer())\n",
    "train_loss = []\n",
    "test_loss = []\n",
    "for step in range(epoc):\n",
    "    indexes = np.arange(X_train.shape[0])\n",
    "    np.random.shuffle(indexes)\n",
    "    num_batches = int(X_train.shape[0] / batch_size)\n",
    "    \n",
    "    for i in range(num_batches - 1):\n",
    "        batch_index = indexes[i * batch_size: (i+1) * batch_size]\n",
    "        X_batch, y_batch = X_train[batch_index, :], y_train[batch_index]\n",
    "        sess.run(optimizer, feed_dict={X: X_batch, y: y_batch})\n",
    "\n",
    "    loss_train, acc_train = sess.run([cross_entropy, accuracy],\n",
    "                                     feed_dict={X:X_train, y: y_train})\n",
    "    loss_test, acc_test = sess.run([cross_entropy, accuracy], feed_dict={X:X_test, y: y_test})\n",
    "    print(\"step: \", step, loss_train, acc_train, loss_test, acc_test)\n",
    "    train_loss.append(loss_train)\n",
    "    test_loss.append(loss_test) "
   ]
  },
  {
   "cell_type": "markdown",
   "metadata": {},
   "source": [
    "## Loss v.s. Iteration"
   ]
  },
  {
   "cell_type": "code",
   "execution_count": 10,
   "metadata": {},
   "outputs": [
    {
     "data": {
      "text/plain": [
       "<matplotlib.legend.Legend at 0x7f395c3fbd68>"
      ]
     },
     "execution_count": 10,
     "metadata": {},
     "output_type": "execute_result"
    },
    {
     "data": {
      "image/png": "[encoded data removed]",
      "text/plain": [
       "<matplotlib.figure.Figure at 0x7f39847030b8>"
      ]
     },
     "metadata": {},
     "output_type": "display_data"
    }
   ],
   "source": [
    "## Plot the loss vs epoch number\n",
    "plt.figure(figsize=(6, 4))\n",
    "plt.plot(np.arange(epoc), train_loss, 'r-o', label=\"training\")\n",
    "plt.plot(np.arange(epoc), test_loss, 'b-o', label=\"testing\")\n",
    "plt.xticks(np.arange(epoc))\n",
    "plt.xlabel(\"Iteration number\")\n",
    "plt.ylabel(\"Cross-entropy loss\")\n",
    "plt.legend()"
   ]
  },
  {
   "cell_type": "markdown",
   "metadata": {},
   "source": [
    "## Test accuracy - 97.49%"
   ]
  },
  {
   "cell_type": "code",
   "execution_count": 13,
   "metadata": {},
   "outputs": [
    {
     "name": "stdout",
     "output_type": "stream",
     "text": [
      "The testing accuracy is 0.9749.\n"
     ]
    }
   ],
   "source": [
    "# report testing accuracy\n",
    "print(\"The testing accuracy is %.4f.\"%acc_test)"
   ]
  },
  {
   "cell_type": "code",
   "execution_count": null,
   "metadata": {
    "collapsed": true
   },
   "outputs": [],
   "source": []
  }
 ],
 "metadata": {
  "kernelspec": {
   "display_name": "Python 3",
   "language": "python",
   "name": "python3"
  },
  "language_info": {
   "codemirror_mode": {
    "name": "ipython",
    "version": 3
   },
   "file_extension": ".py",
   "mimetype": "text/x-python",
   "name": "python",
   "nbconvert_exporter": "python",
   "pygments_lexer": "ipython3",
   "version": "3.6.0"
  }
 },
 "nbformat": 4,
 "nbformat_minor": 2
}
